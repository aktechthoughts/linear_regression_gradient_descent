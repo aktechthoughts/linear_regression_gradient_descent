{
 "cells": [
  {
   "cell_type": "code",
   "execution_count": 1,
   "metadata": {},
   "outputs": [
    {
     "name": "stderr",
     "output_type": "stream",
     "text": [
      "/home/nbuser/anaconda3_420/lib/python3.5/site-packages/matplotlib/font_manager.py:281: UserWarning: Matplotlib is building the font cache using fc-list. This may take a moment.\n",
      "  'Matplotlib is building the font cache using fc-list. '\n"
     ]
    }
   ],
   "source": [
    "import pandas as pd\n",
    "import numpy as np\n",
    "import matplotlib.pyplot as plt "
   ]
  },
  {
   "cell_type": "markdown",
   "metadata": {},
   "source": [
    "##### Lets generate a random observations which follows a linear pattern."
   ]
  },
  {
   "cell_type": "code",
   "execution_count": 134,
   "metadata": {},
   "outputs": [
    {
     "data": {
      "image/png": "[encoded data removed]",
      "text/plain": [
       "<matplotlib.figure.Figure at 0x7f437e071b00>"
      ]
     },
     "metadata": {},
     "output_type": "display_data"
    }
   ],
   "source": [
    "# Lets generate some random linear observations.\n",
    "m = 0.5\n",
    "c = 0.1\n",
    "x_train = np.linspace(-5,5,num=100)[:,None]\n",
    "y_train =  m*x_train + c + 0.4*np.random.randn(100,1) \n",
    "\n",
    "plt.scatter(x_train,y_train) \n",
    "\n",
    "plt.legend(['Observerd Value'])\n",
    "\n",
    "plt.show()"
   ]
  },
  {
   "cell_type": "markdown",
   "metadata": {},
   "source": [
    "##### To understand the line wrt the above linear pattern we need to determine the cost and the partial derivatives of the parameters (m - slope and c - intercept) of the line "
   ]
  },
  {
   "cell_type": "markdown",
   "metadata": {},
   "source": [
    "A linear equation can be given by \n",
    "\\begin{align}\n",
    "f(x) & = \\theta_0 + \\theta_1x_1 + \\theta_2x_2 ... + \\theta_nx_n\n",
    "\\end{align}\n",
    "\n",
    "\n",
    "The linear equation can be written in terms of vectors as $f_\\theta(x) = \\theta^TX$, and the cost of the equation is given by\n",
    "\n",
    "\\begin{equation*}\n",
    "cost(f_\\theta(x),y) = \\frac{1}{n} ( \\sum_{i=1}^n  \\left( f_\\theta(x_i) - y_i  \\right)^2  )\n",
    "\\end{equation*}\n",
    "\n",
    "We have to calculate the partial derivative of the cost function as follows\n",
    "\n",
    "\\begin{equation*}\n",
    "\\frac{\\partial cost(f_\\theta(x),y)}{\\partial \\theta_0}, \\frac{\\partial cost(f_\\theta(x),y)}{\\partial \\theta_1} to .... \\frac{\\partial cost(f_\\theta(x),y)}{\\partial \\theta_n}\n",
    "\\end{equation*}\n",
    "\n",
    "Also represented as \n",
    "\n",
    "\\begin{equation*}\n",
    "\\nabla f_\\theta(x) = (\\frac{\\partial f_\\theta(x)}{\\partial \\theta_0}, \\frac{\\partial f_\\theta(x)}{\\partial \\theta_1})\n",
    "\\end{equation*}\n",
    "\n",
    "A very good source to understand the parital derivative is\n",
    "\n",
    "https://math.stackexchange.com/questions/70728/partial-derivative-in-gradient-descent-for-two-variables \n",
    "\n",
    "In case of two parameter ($\\theta_0$ and $\\theta_1$) linear equation the partial derivative with respect to $\\theta_0$ and $\\theta_1$ can be given by \n",
    "\n",
    "\\begin{equation*}\n",
    "\\frac{\\partial}{\\partial\\theta_0} cost(f_\\theta(x),y) = \\frac{1}{m} \\sum_{i=1}^m (h_\\theta(x_i)-y_i)\n",
    "\\end{equation*}\n",
    "\n",
    "\\begin{equation*}\n",
    "\\frac{\\partial}{\\partial\\theta_1} cost(f_\\theta(x),y) = \\frac{1}{m} \\sum_{i=1}^m (h_\\theta(x_i)-y_i)x_i.\n",
    "\\end{equation*}\n",
    "\n",
    "\n",
    "If we consider f(x) = mx + c as a linear equation then the cost is given by  cost($f(x_i),y_i) = \\frac{1}{2}\\sqrt{((mx_i + c) - y_i )^2}$ and the partial derivative with respect to parameter m and c can be given by following\n",
    "\n",
    "\n",
    "\\begin{split}f'(x) =\n",
    "   \\begin{bmatrix}\n",
    "     \\frac{{\\partial}f(x)}{{\\partial}m}\\\\\n",
    "     \\frac{{\\partial}f(x)}{{\\partial}c}\\\\\n",
    "    \\end{bmatrix}\n",
    "=\n",
    "   \\begin{bmatrix}\n",
    "     \\frac{1}{N} \\sum -x_i(y_i - (mx_i + c) \\\\\n",
    "       \\frac{1}{N} \\sum -(y_i - (mx_i + c) \\\\\n",
    "    \\end{bmatrix}\\end{split}\n",
    "    \n",
    "We can utilize the partial derivative to identify the delta_m and delta_c in the following LinRegression class\n"
   ]
  },
  {
   "cell_type": "code",
   "execution_count": 131,
   "metadata": {},
   "outputs": [],
   "source": [
    "# Build Actual Linear Regression class.\n",
    "class LinRegression:\n",
    "    \n",
    "    m = 0.8 # This slope is a random number, ideally should be less than 1.0 \n",
    "    c = 0.1 # Random value intercept \n",
    "    r = 0.1 # Random value learning rate\n",
    "    \n",
    "    def fit(self,x_train,y_train):\n",
    "        N = len(x_train)\n",
    "        for i in range(25):\n",
    "            delta_m = np.sum(-1 * x_train * (y_train - (m*x_train + c))) * (1/N)\n",
    "            delta_c = np.sum(-1 * (y_train - (m*x_train + c))) * (1/N)\n",
    "            \n",
    "            self.m = self.m - self.r * delta_m\n",
    "            self.c = self.c - self.r * delta_c\n",
    "            error = np.sqrt(np.sum((y_train - (self.m*x_train+self.c))**2)*(1/N))\n",
    "            \n",
    "#             print(\"Iteration :\"+str(i),end=\" \")\n",
    "#             print(\"m : %.4f, c : %.4f, error : %.4f\" % (self.m,self.c,error))\n",
    "    \n",
    "    def predict(self,x_test):\n",
    "        return (self.m*x_test + self.c)\n",
    "    \n",
    "    "
   ]
  },
  {
   "cell_type": "code",
   "execution_count": 135,
   "metadata": {},
   "outputs": [
    {
     "name": "stdout",
     "output_type": "stream",
     "text": [
      "0.3575463634003039\n",
      "-0.12713724156478942\n"
     ]
    }
   ],
   "source": [
    "# Fit the observations in the model build above.\n",
    "linreg = LinRegression()\n",
    "linreg.fit(x_train,y_train)\n",
    "\n",
    "print(linreg.m)\n",
    "print(linreg.c)"
   ]
  },
  {
   "cell_type": "code",
   "execution_count": 133,
   "metadata": {},
   "outputs": [
    {
     "data": {
      "text/plain": [
       "<matplotlib.legend.Legend at 0x7f437d988320>"
      ]
     },
     "execution_count": 133,
     "metadata": {},
     "output_type": "execute_result"
    },
    {
     "data": {
      "image/png": "[encoded data removed]",
      "text/plain": [
       "<matplotlib.figure.Figure at 0x7f437d9e7518>"
      ]
     },
     "metadata": {},
     "output_type": "display_data"
    }
   ],
   "source": [
    "# Predict the line which fits the best to the observations.\n",
    "\n",
    "x_test = np.linspace(-3,3)\n",
    "y_test = linreg.predict(x_test[:,None])\n",
    "\n",
    "plt.scatter(x_train,y_train)\n",
    "plt.plot(x_test,y_test,color='red')\n",
    "plt.legend(['Predicted Value','Observerd data'])\n"
   ]
  }
 ],
 "metadata": {
  "kernelspec": {
   "display_name": "Python 3",
   "language": "python",
   "name": "python3"
  },
  "language_info": {
   "codemirror_mode": {
    "name": "ipython",
    "version": 3
   },
   "file_extension": ".py",
   "mimetype": "text/x-python",
   "name": "python",
   "nbconvert_exporter": "python",
   "pygments_lexer": "ipython3",
   "version": "3.5.4"
  }
 },
 "nbformat": 4,
 "nbformat_minor": 2
}
