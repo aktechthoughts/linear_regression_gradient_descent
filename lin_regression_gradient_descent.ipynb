{
 "cells": [
  {
   "cell_type": "code",
   "execution_count": 73,
   "metadata": {},
   "outputs": [],
   "source": [
    "import pandas as pd\n",
    "import numpy as np\n",
    "import matplotlib.pyplot as plt "
   ]
  },
  {
   "cell_type": "markdown",
   "metadata": {},
   "source": [
    "##### Lets generate a random observations which follows a linear pattern."
   ]
  },
  {
   "cell_type": "code",
   "execution_count": 74,
   "metadata": {},
   "outputs": [
    {
     "data": {
      "image/png": "[encoded data removed]",
      "text/plain": [
       "<matplotlib.figure.Figure at 0x7fe77af10be0>"
      ]
     },
     "metadata": {},
     "output_type": "display_data"
    }
   ],
   "source": [
    "# Lets generate some random linear observations.\n",
    "m = 0.5\n",
    "c = 0.1\n",
    "x_train = np.linspace(-5,5,num=100)[:,None]\n",
    "y_train =  m*x_train + c + 0.4*np.random.randn(100,1) \n",
    "\n",
    "plt.scatter(x_train,y_train) \n",
    "\n",
    "plt.legend(['Observerd Value'])\n",
    "\n",
    "plt.show()"
   ]
  },
  {
   "cell_type": "markdown",
   "metadata": {},
   "source": [
    "##### To understand the line wrt the above linear pattern we need to determine the cost and the partial derivatives of the parameters (m - slope and c - intercept) of the line "
   ]
  },
  {
   "cell_type": "markdown",
   "metadata": {},
   "source": [
    "A linear equation can be given by \n",
    "\\begin{align}\n",
    "f(x) & = \\theta_0 + \\theta_1x_1 + \\theta_2x_2 ... + \\theta_nx_n\n",
    "\\end{align}\n",
    "\n",
    "\n",
    "The linear equation can be written in terms of vectors as $f_\\theta(x) = \\theta^TX$, and the cost of the equation ( sum of squares of errors) is given by\n",
    "\n",
    "\\begin{equation*}\n",
    "cost(f_\\theta(x),y) = \\frac{1}{n} ( \\sum_{i=1}^n  \\left( f_\\theta(x_i) - y_i  \\right)^2  )\n",
    "\\end{equation*}\n",
    "\n",
    "We have to calculate the partial derivative of the cost function as follows for all the coefficients ($\\theta_0$ ... $\\theta_n$)\n",
    "\n",
    "\\begin{equation*}\n",
    "\\frac{\\partial cost(f_\\theta(x),y)}{\\partial \\theta_0}, \\frac{\\partial cost(f_\\theta(x),y)}{\\partial \\theta_1} to .... \\frac{\\partial cost(f_\\theta(x),y)}{\\partial \\theta_n}\n",
    "\\end{equation*}\n",
    "\n",
    "Also represented as \n",
    "\n",
    "\\begin{equation*}\n",
    "\\nabla f_\\theta(x) = (\\frac{\\partial f_\\theta(x)}{\\partial \\theta_0}, \\frac{\\partial f_\\theta(x)}{\\partial \\theta_1})\n",
    "\\end{equation*}\n",
    "\n",
    "A very good source to understand the parital derivative is\n",
    "\n",
    "https://math.stackexchange.com/questions/70728/partial-derivative-in-gradient-descent-for-two-variables \n",
    "\n",
    "In case of two parameter ($\\theta_0$ and $\\theta_1$) linear equation the partial derivative with respect to $\\theta_0$ and $\\theta_1$ can be given by \n",
    "\n",
    "\\begin{equation*}\n",
    "\\frac{\\partial}{\\partial\\theta_0} cost(f_\\theta(x),y) = \\frac{1}{m} \\sum_{i=1}^m (h_\\theta(x_i)-y_i)\n",
    "\\end{equation*}\n",
    "\n",
    "\\begin{equation*}\n",
    "\\frac{\\partial}{\\partial\\theta_1} cost(f_\\theta(x),y) = \\frac{1}{m} \\sum_{i=1}^m (h_\\theta(x_i)-y_i)x_i.\n",
    "\\end{equation*}\n",
    "\n",
    "\n",
    "If we consider f(x) = mx + c as a linear equation then the cost is given by  cost($f(x_i),y_i) = \\frac{1}{2}\\sqrt{((mx_i + c) - y_i )^2}$ and the partial derivative with respect to parameter m and c can be given by following\n",
    "\n",
    "\n",
    "\\begin{split}f'(x) =\n",
    "   \\begin{bmatrix}\n",
    "     \\frac{{\\partial}f(x)}{{\\partial}m}\\\\\n",
    "     \\frac{{\\partial}f(x)}{{\\partial}c}\\\\\n",
    "    \\end{bmatrix}\n",
    "=\n",
    "   \\begin{bmatrix}\n",
    "     \\frac{1}{N} \\sum -x_i(y_i - (mx_i + c) \\\\\n",
    "       \\frac{1}{N} \\sum -(y_i - (mx_i + c) \\\\\n",
    "    \\end{bmatrix}\\end{split}\n",
    "    \n",
    "We can utilize the partial derivative to identify the delta_m and delta_c in the following LinRegression class\n"
   ]
  },
  {
   "cell_type": "code",
   "execution_count": 75,
   "metadata": {},
   "outputs": [],
   "source": [
    "# Build Actual Linear Regression class.\n",
    "class LinRegression:\n",
    "    \n",
    "    m = 0.8 # This slope is a random number, ideally should be less than 1.0 \n",
    "    c = 0.1 # Random value intercept \n",
    "    r = 0.1 # Random value learning rate\n",
    "    \n",
    "    def fit(self,x_train,y_train):\n",
    "        N = len(x_train)\n",
    "        for i in range(100):\n",
    "            delta_m = np.sum(-1 * x_train * (y_train - (m*x_train + c))) * (1/N)\n",
    "            delta_c = np.sum(-1 * (y_train - (m*x_train + c))) * (1/N)\n",
    "            \n",
    "            self.m = self.m - self.r * delta_m\n",
    "            self.c = self.c - self.r * delta_c\n",
    "            error = np.sqrt(np.sum((y_train - (self.m*x_train+self.c))**2)*(1/N))\n",
    "            \n",
    "            print(\"Iteration :\"+str(i),end=\" \")\n",
    "            print(\"m : %.4f, c : %.4f, error : %.4f\" % (self.m,self.c,error))\n",
    "            \n",
    "            if self.m <= 0.52 :\n",
    "                break\n",
    "    \n",
    "    def predict(self,x_test):\n",
    "        return (self.m*x_test + self.c)\n",
    "    \n",
    "    "
   ]
  },
  {
   "cell_type": "code",
   "execution_count": 76,
   "metadata": {},
   "outputs": [
    {
     "name": "stdout",
     "output_type": "stream",
     "text": [
      "Iteration :0 m : 0.7866, c : 0.0982, error : 0.9610\n",
      "Iteration :1 m : 0.7732, c : 0.0963, error : 0.9253\n",
      "Iteration :2 m : 0.7598, c : 0.0945, error : 0.8899\n",
      "Iteration :3 m : 0.7464, c : 0.0926, error : 0.8547\n",
      "Iteration :4 m : 0.7330, c : 0.0908, error : 0.8200\n",
      "Iteration :5 m : 0.7196, c : 0.0890, error : 0.7856\n",
      "Iteration :6 m : 0.7062, c : 0.0871, error : 0.7517\n",
      "Iteration :7 m : 0.6929, c : 0.0853, error : 0.7184\n",
      "Iteration :8 m : 0.6795, c : 0.0835, error : 0.6856\n",
      "Iteration :9 m : 0.6661, c : 0.0816, error : 0.6535\n",
      "Iteration :10 m : 0.6527, c : 0.0798, error : 0.6223\n",
      "Iteration :11 m : 0.6393, c : 0.0779, error : 0.5920\n",
      "Iteration :12 m : 0.6259, c : 0.0761, error : 0.5627\n",
      "Iteration :13 m : 0.6125, c : 0.0743, error : 0.5347\n",
      "Iteration :14 m : 0.5991, c : 0.0724, error : 0.5082\n",
      "Iteration :15 m : 0.5857, c : 0.0706, error : 0.4834\n",
      "Iteration :16 m : 0.5723, c : 0.0688, error : 0.4606\n",
      "Iteration :17 m : 0.5589, c : 0.0669, error : 0.4401\n",
      "Iteration :18 m : 0.5455, c : 0.0651, error : 0.4222\n",
      "Iteration :19 m : 0.5321, c : 0.0632, error : 0.4073\n",
      "Iteration :20 m : 0.5187, c : 0.0614, error : 0.3957\n",
      "0.5187489026488155\n",
      "0.06140031295308841\n"
     ]
    }
   ],
   "source": [
    "# Fit the observations in the model build above.\n",
    "linreg = LinRegression()\n",
    "linreg.fit(x_train,y_train)\n",
    "\n",
    "print(linreg.m)\n",
    "print(linreg.c)"
   ]
  },
  {
   "cell_type": "code",
   "execution_count": 77,
   "metadata": {},
   "outputs": [
    {
     "data": {
      "text/plain": [
       "<matplotlib.legend.Legend at 0x7fe77ae445f8>"
      ]
     },
     "execution_count": 77,
     "metadata": {},
     "output_type": "execute_result"
    },
    {
     "data": {
      "image/png": "[encoded data removed]",
      "text/plain": [
       "<matplotlib.figure.Figure at 0x7fe77aee6ba8>"
      ]
     },
     "metadata": {},
     "output_type": "display_data"
    }
   ],
   "source": [
    "# Predict the line which fits the best to the observations.\n",
    "\n",
    "x_test = np.linspace(-3,3)\n",
    "y_test = linreg.predict(x_test[:,None])\n",
    "\n",
    "plt.scatter(x_train,y_train)\n",
    "plt.plot(x_test,y_test,color='red')\n",
    "plt.legend(['Predicted Value','Observerd data'])\n"
   ]
  }
 ],
 "metadata": {
  "kernelspec": {
   "display_name": "Python 3",
   "language": "python",
   "name": "python3"
  },
  "language_info": {
   "codemirror_mode": {
    "name": "ipython",
    "version": 3
   },
   "file_extension": ".py",
   "mimetype": "text/x-python",
   "name": "python",
   "nbconvert_exporter": "python",
   "pygments_lexer": "ipython3",
   "version": "3.5.4"
  }
 },
 "nbformat": 4,
 "nbformat_minor": 2
}
