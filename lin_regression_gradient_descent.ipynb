{
 "cells": [
  {
   "cell_type": "code",
   "execution_count": 1,
   "metadata": {},
   "outputs": [
    {
     "name": "stderr",
     "output_type": "stream",
     "text": [
      "/home/nbuser/anaconda3_420/lib/python3.5/site-packages/matplotlib/font_manager.py:281: UserWarning: Matplotlib is building the font cache using fc-list. This may take a moment.\n",
      "  'Matplotlib is building the font cache using fc-list. '\n"
     ]
    }
   ],
   "source": [
    "import pandas as pd\n",
    "import numpy as np\n",
    "import matplotlib.pyplot as plt "
   ]
  },
  {
   "cell_type": "markdown",
   "metadata": {},
   "source": [
    "##### Lets generate a random observations which follows a linear pattern."
   ]
  },
  {
   "cell_type": "code",
   "execution_count": 134,
   "metadata": {},
   "outputs": [
    {
     "data": {
      "image/png": "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
      "text/plain": [
       "<matplotlib.figure.Figure at 0x7f437e071b00>"
      ]
     },
     "metadata": {},
     "output_type": "display_data"
    }
   ],
   "source": [
    "# Lets generate some random linear observations.\n",
    "m = 0.5\n",
    "c = 0.1\n",
    "x_train = np.linspace(-5,5,num=100)[:,None]\n",
    "y_train =  m*x_train + c + 0.4*np.random.randn(100,1) \n",
    "\n",
    "plt.scatter(x_train,y_train) \n",
    "\n",
    "plt.legend(['Observerd Value'])\n",
    "\n",
    "plt.show()"
   ]
  },
  {
   "cell_type": "markdown",
   "metadata": {},
   "source": [
    "##### To understand the line wrt the above linear pattern we need to determine the cost and the partial derivatives of the parameters (m - slope and c - intercept) of the line "
   ]
  },
  {
   "cell_type": "markdown",
   "metadata": {},
   "source": [
    "A linear equation can be given by \n",
    "\\begin{align}\n",
    "f(x) & = \\theta_0 + \\theta_1x_1 + \\theta_2x_2 ... + \\theta_nx_n\n",
    "\\end{align}\n",
    "\n",
    "\n",
    "The linear equation can be written in terms of vectors as $f_\\theta(x) = \\theta^TX$, and the cost of the equation is given by\n",
    "\n",
    "\\begin{equation*}\n",
    "cost(f_\\theta(x),y) = \\frac{1}{n} ( \\sum_{i=1}^n  \\left( f_\\theta(x_i) - y_i  \\right)^2  )\n",
    "\\end{equation*}\n",
    "\n",
    "We have to calculate the partial derivative of the cost function as follows\n",
    "\n",
    "\\begin{equation*}\n",
    "\\frac{\\partial cost(f_\\theta(x),y)}{\\partial \\theta_0}, \\frac{\\partial cost(f_\\theta(x),y)}{\\partial \\theta_1} to .... \\frac{\\partial cost(f_\\theta(x),y)}{\\partial \\theta_n}\n",
    "\\end{equation*}\n",
    "\n",
    "Also represented as \n",
    "\n",
    "\\begin{equation*}\n",
    "\\nabla f_\\theta(x) = (\\frac{\\partial f_\\theta(x)}{\\partial \\theta_0}, \\frac{\\partial f_\\theta(x)}{\\partial \\theta_1})\n",
    "\\end{equation*}\n",
    "\n",
    "A very good source to understand the parital derivative is\n",
    "\n",
    "https://math.stackexchange.com/questions/70728/partial-derivative-in-gradient-descent-for-two-variables \n",
    "\n",
    "In case of two parameter ($\\theta_0$ and $\\theta_1$) linear equation the partial derivative with respect to $\\theta_0$ and $\\theta_1$ can be given by \n",
    "\n",
    "\\begin{equation*}\n",
    "\\frac{\\partial}{\\partial\\theta_0} cost(f_\\theta(x),y) = \\frac{1}{m} \\sum_{i=1}^m (h_\\theta(x_i)-y_i)\n",
    "\\end{equation*}\n",
    "\n",
    "\\begin{equation*}\n",
    "\\frac{\\partial}{\\partial\\theta_1} cost(f_\\theta(x),y) = \\frac{1}{m} \\sum_{i=1}^m (h_\\theta(x_i)-y_i)x_i.\n",
    "\\end{equation*}\n",
    "\n",
    "\n",
    "If we consider f(x) = mx + c as a linear equation then the cost is given by  cost($f(x_i),y_i) = \\frac{1}{2}\\sqrt{((mx_i + c) - y_i )^2}$ and the partial derivative with respect to parameter m and c can be given by following\n",
    "\n",
    "\n",
    "\\begin{split}f'(x) =\n",
    "   \\begin{bmatrix}\n",
    "     \\frac{{\\partial}f(x)}{{\\partial}m}\\\\\n",
    "     \\frac{{\\partial}f(x)}{{\\partial}c}\\\\\n",
    "    \\end{bmatrix}\n",
    "=\n",
    "   \\begin{bmatrix}\n",
    "     \\frac{1}{N} \\sum -x_i(y_i - (mx_i + c) \\\\\n",
    "       \\frac{1}{N} \\sum -(y_i - (mx_i + c) \\\\\n",
    "    \\end{bmatrix}\\end{split}\n",
    "    \n",
    "We can utilize the partial derivative to identify the delta_m and delta_c in the following LinRegression class\n"
   ]
  },
  {
   "cell_type": "code",
   "execution_count": 131,
   "metadata": {},
   "outputs": [],
   "source": [
    "# Build Actual Linear Regression class.\n",
    "class LinRegression:\n",
    "    \n",
    "    m = 0.8 # This slope is a random number, ideally should be less than 1.0 \n",
    "    c = 0.1 # Random value intercept \n",
    "    r = 0.1 # Random value learning rate\n",
    "    \n",
    "    def fit(self,x_train,y_train):\n",
    "        N = len(x_train)\n",
    "        for i in range(25):\n",
    "            delta_m = np.sum(-1 * x_train * (y_train - (m*x_train + c))) * (1/N)\n",
    "            delta_c = np.sum(-1 * (y_train - (m*x_train + c))) * (1/N)\n",
    "            \n",
    "            self.m = self.m - self.r * delta_m\n",
    "            self.c = self.c - self.r * delta_c\n",
    "            error = np.sqrt(np.sum((y_train - (self.m*x_train+self.c))**2)*(1/N))\n",
    "            \n",
    "#             print(\"Iteration :\"+str(i),end=\" \")\n",
    "#             print(\"m : %.4f, c : %.4f, error : %.4f\" % (self.m,self.c,error))\n",
    "    \n",
    "    def predict(self,x_test):\n",
    "        return (self.m*x_test + self.c)\n",
    "    \n",
    "    "
   ]
  },
  {
   "cell_type": "code",
   "execution_count": 135,
   "metadata": {},
   "outputs": [
    {
     "name": "stdout",
     "output_type": "stream",
     "text": [
      "0.3575463634003039\n",
      "-0.12713724156478942\n"
     ]
    }
   ],
   "source": [
    "# Fit the observations in the model build above.\n",
    "linreg = LinRegression()\n",
    "linreg.fit(x_train,y_train)\n",
    "\n",
    "print(linreg.m)\n",
    "print(linreg.c)"
   ]
  },
  {
   "cell_type": "code",
   "execution_count": 133,
   "metadata": {},
   "outputs": [
    {
     "data": {
      "text/plain": [
       "<matplotlib.legend.Legend at 0x7f437d988320>"
      ]
     },
     "execution_count": 133,
     "metadata": {},
     "output_type": "execute_result"
    },
    {
     "data": {
      "image/png": "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
      "text/plain": [
       "<matplotlib.figure.Figure at 0x7f437d9e7518>"
      ]
     },
     "metadata": {},
     "output_type": "display_data"
    }
   ],
   "source": [
    "# Predict the line which fits the best to the observations.\n",
    "\n",
    "x_test = np.linspace(-3,3)\n",
    "y_test = linreg.predict(x_test[:,None])\n",
    "\n",
    "plt.scatter(x_train,y_train)\n",
    "plt.plot(x_test,y_test,color='red')\n",
    "plt.legend(['Predicted Value','Observerd data'])\n"
   ]
  }
 ],
 "metadata": {
  "kernelspec": {
   "display_name": "Python 3",
   "language": "python",
   "name": "python3"
  },
  "language_info": {
   "codemirror_mode": {
    "name": "ipython",
    "version": 3
   },
   "file_extension": ".py",
   "mimetype": "text/x-python",
   "name": "python",
   "nbconvert_exporter": "python",
   "pygments_lexer": "ipython3",
   "version": "3.5.4"
  }
 },
 "nbformat": 4,
 "nbformat_minor": 2
}
